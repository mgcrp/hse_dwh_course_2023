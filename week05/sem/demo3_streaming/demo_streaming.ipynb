{
 "cells": [
  {
   "cell_type": "code",
   "execution_count": null,
   "id": "03a3e436",
   "metadata": {},
   "outputs": [],
   "source": [
    "!pip install pyspark"
   ]
  },
  {
   "cell_type": "code",
   "execution_count": null,
   "id": "9ac749f4",
   "metadata": {},
   "outputs": [],
   "source": [
    "import logging\n",
    "from json import dumps\n",
    "from random import uniform\n",
    "from time import sleep\n",
    "\n",
    "from kafka import KafkaProducer\n",
    "\n",
    "logging.basicConfig(level=logging.INFO, format=\" %(levelname)s %(asctime)s: %(message)s\")\n",
    "log = logging.getLogger(__name__)"
   ]
  },
  {
   "cell_type": "code",
   "execution_count": null,
   "id": "6b8d2bd2",
   "metadata": {},
   "outputs": [],
   "source": [
    "!curl http://localhost:9092/v3/clusters"
   ]
  },
  {
   "cell_type": "code",
   "execution_count": null,
   "id": "80f9777b",
   "metadata": {},
   "outputs": [],
   "source": [
    "!curl https://raw.githubusercontent.com/f0xtek/covidcab/master/yellow_tripdata_2020-04.csv -o yellow_tripdata_2020-04.csv"
   ]
  },
  {
   "cell_type": "code",
   "execution_count": null,
   "id": "28ffed7c",
   "metadata": {},
   "outputs": [],
   "source": [
    "from tqdm import tqdm\n",
    "\n",
    "def produce(csv_file: str, bootstrap_servers: str, topic: str):\n",
    "    producer = KafkaProducer(\n",
    "        security_protocol=\"PLAINTEXT\",\n",
    "        bootstrap_servers=[bootstrap_servers],\n",
    "        value_serializer=lambda x: dumps(x).encode('utf-8'),\n",
    "        acks=\"all\",\n",
    "        retries = 3\n",
    "    )\n",
    "    \n",
    "    pbar = tqdm(total=52750)\n",
    "\n",
    "    # открываем файл на чтение\n",
    "    with open(csv_file, 'r') as data_file:\n",
    "        # пропускаем заголовок\n",
    "        header = data_file.readline()\n",
    "        log.info(f'Header is [{header}]') \n",
    "        count = 0\n",
    "        \n",
    "        while True:\n",
    "            sleep(uniform(0.9, 0.9)) # эмулируем интервал\n",
    "            line = data_file.readline().strip()\n",
    "\n",
    "            if not line:\n",
    "                log.info(\"File ended\")\n",
    "                break\n",
    "\n",
    "            count += 1\n",
    "            fields = line.split(',') \n",
    "\n",
    "            data = {\n",
    "                'vendor_id': int(fields[0]),\n",
    "                'tpep_pickup_datetime': fields[1],\n",
    "                'tpep_dropoff_datetime': fields[2],\n",
    "                'passenger_count': int(fields[3]),\n",
    "                'trip_distance': float(fields[4]),\n",
    "                'ratecode_id': int(fields[5]),\n",
    "                'store_and_fwd_flag': fields[6],\n",
    "                'pulocation_id': int(fields[7]),\n",
    "                'dolocation_id': int(fields[8]),\n",
    "                'payment_type': int(fields[9]),\n",
    "                'fare_amount': float(fields[10]),\n",
    "                'extra': float(fields[11]),\n",
    "                'mta_tax': float(fields[12]),\n",
    "                'tip_amount': float(fields[13]),\n",
    "                'tolls_amount': float(fields[14]),\n",
    "                'improvement_surcharge': float(fields[15]),\n",
    "                'total_amount': float(fields[16]),\n",
    "                'congestion_surcharge': float(fields[17]),\n",
    "            }\n",
    "\n",
    "            producer.send(topic=topic, value=data)\n",
    "            pbar.update(1)\n",
    "#             log.debug(\"Line {}: {}\".format(count, line.strip()))\n",
    "#             log.info(f\"Line {count} sent\")"
   ]
  },
  {
   "cell_type": "code",
   "execution_count": null,
   "id": "326c4bce",
   "metadata": {},
   "outputs": [],
   "source": [
    "BOOTSTRAP_SERVERS = 'localhost:9092'\n",
    "TOPIC_NAME = 'taxi'\n",
    "DATA_FILE = 'yellow_tripdata_2020-04.csv'\n",
    "\n",
    "produce(DATA_FILE, BOOTSTRAP_SERVERS, TOPIC_NAME)"
   ]
  },
  {
   "cell_type": "code",
   "execution_count": null,
   "id": "94722ecc",
   "metadata": {},
   "outputs": [],
   "source": []
  }
 ],
 "metadata": {
  "kernelspec": {
   "display_name": "Python 3 (ipykernel)",
   "language": "python",
   "name": "python3"
  },
  "language_info": {
   "codemirror_mode": {
    "name": "ipython",
    "version": 3
   },
   "file_extension": ".py",
   "mimetype": "text/x-python",
   "name": "python",
   "nbconvert_exporter": "python",
   "pygments_lexer": "ipython3",
   "version": "3.11.4"
  }
 },
 "nbformat": 4,
 "nbformat_minor": 5
}
