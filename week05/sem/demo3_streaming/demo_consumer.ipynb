{
 "cells": [
  {
   "cell_type": "code",
   "execution_count": null,
   "id": "08c00a2b",
   "metadata": {},
   "outputs": [],
   "source": [
    "!rm -rf output_report/"
   ]
  },
  {
   "cell_type": "code",
   "execution_count": null,
   "id": "f2742a41",
   "metadata": {},
   "outputs": [],
   "source": [
    "from pyspark.sql import SparkSession\n",
    "\n",
    "import os\n",
    "\n",
    "from pyspark.sql import functions as f\n",
    "from pyspark.sql.dataframe import DataFrame\n",
    "from pyspark.sql.functions import collect_set, to_json, struct\n",
    "from pyspark.sql.types import StructType, StructField, StringType, TimestampType, IntegerType, DoubleType\n",
    "\n",
    "trips_schema = StructType([\n",
    "    StructField('vendor_id', StringType(), True),\n",
    "    StructField('tpep_pickup_datetime', TimestampType(), True),\n",
    "    StructField('tpep_dropoff_datetime', TimestampType(), True),\n",
    "    StructField('passenger_count', IntegerType(), True),\n",
    "    StructField('trip_distance', DoubleType(), True),\n",
    "    StructField('ratecode_id', IntegerType(), True),\n",
    "    StructField('store_and_fwd_flag', StringType(), True),\n",
    "    StructField('pulocation_id', IntegerType(), True),\n",
    "    StructField('dolocation_id', IntegerType(), True),\n",
    "    StructField('payment_type', IntegerType(), True),\n",
    "    StructField('fare_amount', DoubleType(), True),\n",
    "    StructField('extra', DoubleType(), True),\n",
    "    StructField('mta_tax', DoubleType(), True),\n",
    "    StructField('tip_amount', DoubleType(), True),\n",
    "    StructField('tolls_amount', DoubleType(), True),\n",
    "    StructField('improvement_surcharge', DoubleType(), True),\n",
    "    StructField('total_amount', DoubleType(), True),\n",
    "    StructField('congestion_surcharge', DoubleType()),\n",
    "])\n",
    "\n",
    "\n",
    "def foreach_batch_function(df: DataFrame, epoch_id): # функция для записи батчей\n",
    "    df.write.mode(\"append\").json(\"output_report\") # датафрейм будет писаться в папку output_report методом append\n",
    "\n",
    "\n",
    "def main(spark: SparkSession):\n",
    "    jsonOptions = {\"timestampFormat\": \"yyyy-MM-dd'T'HH:mm:ss.sss'Z'\"} # указываем опции json-сериализации\n",
    "\n",
    "    fields = list(map(lambda x: f\"json_message.{x.name}\", trips_schema.fields)) \n",
    "\n",
    "    df = spark \\\n",
    "        .readStream \\\n",
    "        .format(\"kafka\") \\\n",
    "        .option(\"kafka.bootstrap.servers\", \"localhost:9092\") \\\n",
    "        .option(\"subscribe\", \"taxi\") \\\n",
    "        .option(\"startingOffsets\", \"latest\") \\\n",
    "        .option(\"maxOffsetsPerTrigger\", 1000) \\\n",
    "        .load() \\\n",
    "        .select(f.from_json(f.col(\"value\").cast(\"string\"), trips_schema, jsonOptions).alias(\"json_message\")) \\\n",
    "        .select(fields)\n",
    "\n",
    "    # пишем на диск\n",
    "    writer = df \\\n",
    "        .writeStream \\\n",
    "        .foreachBatch(foreach_batch_function) \\\n",
    "        .trigger(processingTime='10 seconds') \\\n",
    "        .option(\"path\", \"output_report\") \\\n",
    "        .outputMode(\"append\") \\\n",
    "        .start()\n",
    "\n",
    "    writer.awaitTermination()"
   ]
  },
  {
   "cell_type": "code",
   "execution_count": null,
   "id": "7cc09c77",
   "metadata": {
    "scrolled": false
   },
   "outputs": [],
   "source": [
    "main(\n",
    "    SparkSession \\\n",
    "    .builder \\\n",
    "    .config(\"spark.driver.host\", \"localhost\")\\\n",
    "    .appName(\"streaming_job\") \\\n",
    "    .config(\"spark.jars.packages\", \"org.apache.spark:spark-sql-kafka-0-10_2.12:3.2.0\") \\\n",
    "    .config(\"spark.driver.bindAddress\",\"localhost\") \\\n",
    "    .config(\"spark.ui.port\",\"4050\") \\\n",
    "    .config(\"spark.sql.legacy.timeParserPolicy\", \"LEGACY\") \\\n",
    "    .getOrCreate()\n",
    ")"
   ]
  },
  {
   "cell_type": "code",
   "execution_count": null,
   "id": "1403ea60",
   "metadata": {},
   "outputs": [],
   "source": []
  }
 ],
 "metadata": {
  "kernelspec": {
   "display_name": "Python 3 (ipykernel)",
   "language": "python",
   "name": "python3"
  },
  "language_info": {
   "codemirror_mode": {
    "name": "ipython",
    "version": 3
   },
   "file_extension": ".py",
   "mimetype": "text/x-python",
   "name": "python",
   "nbconvert_exporter": "python",
   "pygments_lexer": "ipython3",
   "version": "3.11.4"
  }
 },
 "nbformat": 4,
 "nbformat_minor": 5
}
