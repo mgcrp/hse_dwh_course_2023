{
 "cells": [
  {
   "cell_type": "markdown",
   "id": "99d0c494",
   "metadata": {},
   "source": [
    "## Демо 1 - Kafka\n",
    "\n",
    "1) Запускаем kafka\n",
    "```bash\n",
    "docker-compose up -d\n",
    "```\n",
    "\n",
    "2) Напишем consumer\n",
    "```python\n",
    "import json\n",
    "from kafka import KafkaConsumer\n",
    "\n",
    "KAFKA_HOST = \"localhost\"\n",
    "KAFKA_TOPIC_NAME = \"service_backend_feed\"\n",
    "KAFKA_CONSUMER_GROUP = \"backend\"\n",
    "\n",
    "consumer = KafkaConsumer(\n",
    "    bootstrap_servers=f\"{KAFKA_HOST}:9092\",\n",
    "    value_deserializer=lambda v: json.loads( v.decode(\"utf-8\") ),\n",
    "    auto_offset_reset=\"earliest\",\n",
    "    group_id=KAFKA_CONSUMER_GROUP\n",
    ")\n",
    "consumer.subscribe(topics=KAFKA_TOPIC_NAME)\n",
    "\n",
    "try:\n",
    "    for message in consumer:\n",
    "        value = message.value\n",
    "        print(value)\n",
    "except Exception as e:\n",
    "        print(\"Closing consumer due to error\")\n",
    "        consumer.close()\n",
    "        raise e\n",
    "finally:\n",
    "    print(\"Closing consumer due to finish\")\n",
    "    consumer.close()\n",
    "```\n",
    "\n",
    "3) Запускаем consumer\n",
    "```bash\n",
    "python3 consumer.py\n",
    "```\n",
    "\n",
    "4) Напишем producer"
   ]
  },
  {
   "cell_type": "code",
   "execution_count": 1,
   "id": "6872d93a",
   "metadata": {},
   "outputs": [],
   "source": [
    "import json\n",
    "from datetime import datetime\n",
    "from kafka import KafkaProducer"
   ]
  },
  {
   "cell_type": "code",
   "execution_count": 2,
   "id": "60760f35",
   "metadata": {},
   "outputs": [],
   "source": [
    "KAFKA_HOST = \"localhost\"\n",
    "KAFKA_TOPIC_NAME = \"service_backend_feed\""
   ]
  },
  {
   "cell_type": "code",
   "execution_count": 4,
   "id": "33c6574a",
   "metadata": {},
   "outputs": [],
   "source": [
    "# Подробнее:\n",
    "# https://kafka-python.readthedocs.io/en/master/apidoc/KafkaProducer.html\n",
    "\n",
    "class MessageProducer:\n",
    "    broker = None\n",
    "    topic = None\n",
    "    producer = None\n",
    "\n",
    "    def __init__(self, broker, topic):\n",
    "        self.broker = broker\n",
    "        self.topic = topic\n",
    "        self.producer = KafkaProducer(\n",
    "            bootstrap_servers=self.broker,\n",
    "            value_serializer=lambda v: json.dumps(v).encode(\"utf-8\"),\n",
    "            # acks = 0 - после вызова send сообщение считается отправленым\n",
    "            # acks = 1 - сообщение считается отправленым после получения подтверждения от лидера\n",
    "            # acks = \"all\" - сообщение считается отправленым после получения подтверждения от всех реплик\n",
    "            acks=\"all\",\n",
    "            retries = 3\n",
    "        )\n",
    "\n",
    "    def send_msg(self, msg):\n",
    "        future = self.producer.send(self.topic, msg)\n",
    "        self.producer.flush()"
   ]
  },
  {
   "cell_type": "markdown",
   "id": "9d701e8c",
   "metadata": {},
   "source": [
    "5) Запускаем producer"
   ]
  },
  {
   "cell_type": "code",
   "execution_count": 5,
   "id": "0672d763",
   "metadata": {},
   "outputs": [],
   "source": [
    "kafka_client = MessageProducer(\n",
    "    f\"{KAFKA_HOST}:9092\",\n",
    "    KAFKA_TOPIC_NAME\n",
    ")"
   ]
  },
  {
   "cell_type": "code",
   "execution_count": 6,
   "id": "67cc4125",
   "metadata": {},
   "outputs": [],
   "source": [
    "kafka_client.send_msg({\n",
    "    \"created_at\": datetime.utcnow().isoformat(),\n",
    "    \"lol\": \"kek\",\n",
    "    \"4eburek\": [\"a\", \"b\", \"c\"]\n",
    "})"
   ]
  },
  {
   "cell_type": "code",
   "execution_count": 10,
   "id": "a5b5ff6d",
   "metadata": {},
   "outputs": [],
   "source": [
    "kafka_client.send_msg({\n",
    "    \"created_at\": datetime.utcnow().isoformat(),\n",
    "    \"lol\": \"4\",\n",
    "    \"4eburek\": [\"a\", \"b\", \"c\"]\n",
    "})"
   ]
  },
  {
   "cell_type": "code",
   "execution_count": 13,
   "id": "278e457b",
   "metadata": {},
   "outputs": [],
   "source": [
    "for i in range(10):\n",
    "    kafka_client.send_msg({\n",
    "        \"created_at\": datetime.utcnow().isoformat(),\n",
    "        \"lol\": \"4\",\n",
    "        \"kek\": i,\n",
    "        \"4eburek\": [\"a\", \"b\", \"c\"]\n",
    "    })"
   ]
  },
  {
   "cell_type": "code",
   "execution_count": null,
   "id": "92b420b1",
   "metadata": {},
   "outputs": [],
   "source": []
  }
 ],
 "metadata": {
  "kernelspec": {
   "display_name": "Python 3 (ipykernel)",
   "language": "python",
   "name": "python3"
  },
  "language_info": {
   "codemirror_mode": {
    "name": "ipython",
    "version": 3
   },
   "file_extension": ".py",
   "mimetype": "text/x-python",
   "name": "python",
   "nbconvert_exporter": "python",
   "pygments_lexer": "ipython3",
   "version": "3.11.4"
  }
 },
 "nbformat": 4,
 "nbformat_minor": 5
}
