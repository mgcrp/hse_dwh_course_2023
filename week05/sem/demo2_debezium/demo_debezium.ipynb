{
 "cells": [
  {
   "cell_type": "markdown",
   "id": "6ff64e5e",
   "metadata": {},
   "source": [
    "## Demo Debezuim\n",
    "\n",
    "### Шаг 1\n",
    "\n",
    "На БД `postgres` выполняем\n",
    "```sql\n",
    "select * from pg_stat_replication;\n",
    "```\n",
    "\n",
    "Видим, что ответ пустой; Значит, сейчас репликации нет;\n",
    "\n",
    "Далее выполняем\n",
    "```sql\n",
    "create table public.customers (\n",
    "    id int,\n",
    "    name text\n",
    ");\n",
    "\n",
    "alter table public.customers replica identity full;\n",
    "\n",
    "insert into public.customers (id, name)\n",
    "values\n",
    "    (1, 'ilya'), (2, 'kate'), (3, 'ivan')\n",
    ";\n",
    "```\n",
    "\n",
    "Это будут наши стартовые значения\n",
    "\n",
    "### Шаг 2\n",
    "\n",
    "Настройка debezium"
   ]
  },
  {
   "cell_type": "code",
   "execution_count": 1,
   "id": "e27a9dbc",
   "metadata": {},
   "outputs": [
    {
     "name": "stdout",
     "output_type": "stream",
     "text": [
      "rm: connector.json: No such file or directory\r\n"
     ]
    }
   ],
   "source": [
    "!rm connector.json"
   ]
  },
  {
   "cell_type": "code",
   "execution_count": 2,
   "id": "047b74f3",
   "metadata": {},
   "outputs": [],
   "source": [
    "import json\n",
    "\n",
    "config = {\n",
    "  \"name\": \"pg-connector\",\n",
    "  \"config\": {\n",
    "    \"connector.class\": \"io.debezium.connector.postgresql.PostgresConnector\",\n",
    "    \"plugin.name\": \"pgoutput\",\n",
    "    \n",
    "    \"database.hostname\": \"postgres\",\n",
    "    \"database.port\": \"5432\",\n",
    "    \"database.user\": \"postgres\",\n",
    "    \"database.password\": \"postgres\",\n",
    "    \"database.dbname\" : \"postgres\",\n",
    "    \"database.server.name\": \"pg-dev\",\n",
    "    \n",
    "    \"table.include.list\": \"public.(.*)\",\n",
    "    \"heartbeat.interval.ms\": \"5000\",\n",
    "    \"slot.name\": \"dbname_debezium\",\n",
    "    \"publication.name\": \"dbname_publication\",\n",
    "    \n",
    "    \"transforms\": \"AddPrefix\",\n",
    "    \"transforms.AddPrefix.type\": \"org.apache.kafka.connect.transforms.RegexRouter\",\n",
    "    \"transforms.AddPrefix.regex\": \"pg-dev.public.(.*)\",\n",
    "    \"transforms.AddPrefix.replacement\": \"data.cdc.dbname\",\n",
    "      \n",
    "    \"topic.creation.default.cleanup.policy\": \"delete\",\n",
    "    \"topic.creation.default.partitions\": \"1\",\n",
    "    \"topic.creation.default.replication.factor\": \"1\",\n",
    "    \"topic.creation.default.retention.ms\": \"604800000\",\n",
    "    \"topic.creation.enable\": \"true\",\n",
    "    \"topic.prefix\": \"postgres\"\n",
    "  }\n",
    "}\n",
    "\n",
    "with open('connector.json', 'w') as f:\n",
    "    json.dump(config, f)"
   ]
  },
  {
   "cell_type": "code",
   "execution_count": 3,
   "id": "7ac6b0f5",
   "metadata": {},
   "outputs": [
    {
     "name": "stdout",
     "output_type": "stream",
     "text": [
      "{\"name\":\"pg-connector\",\"config\":{\"connector.class\":\"io.debezium.connector.postgresql.PostgresConnector\",\"plugin.name\":\"pgoutput\",\"database.hostname\":\"postgres\",\"database.port\":\"5432\",\"database.user\":\"postgres\",\"database.password\":\"postgres\",\"database.dbname\":\"postgres\",\"database.server.name\":\"pg-dev\",\"table.include.list\":\"public.(.*)\",\"heartbeat.interval.ms\":\"5000\",\"slot.name\":\"dbname_debezium\",\"publication.name\":\"dbname_publication\",\"transforms\":\"AddPrefix\",\"transforms.AddPrefix.type\":\"org.apache.kafka.connect.transforms.RegexRouter\",\"transforms.AddPrefix.regex\":\"pg-dev.public.(.*)\",\"transforms.AddPrefix.replacement\":\"data.cdc.dbname\",\"topic.creation.default.cleanup.policy\":\"delete\",\"topic.creation.default.partitions\":\"1\",\"topic.creation.default.replication.factor\":\"1\",\"topic.creation.default.retention.ms\":\"604800000\",\"topic.creation.enable\":\"true\",\"topic.prefix\":\"postgres\",\"name\":\"pg-connector\"},\"tasks\":[],\"type\":\"source\"}"
     ]
    }
   ],
   "source": [
    "!curl -X POST --location \"http://localhost:8083/connectors\" -H \"Content-Type: application/json\" -H \"Accept: application/json\" -d @connector.json"
   ]
  },
  {
   "cell_type": "markdown",
   "id": "58c5793c",
   "metadata": {},
   "source": [
    "Подключение создалось;<br>\n",
    "Чтобы дополнительно в этом убедиться, можем посмотреть в UI: http://localhost:8080"
   ]
  },
  {
   "cell_type": "markdown",
   "id": "1e2aa894",
   "metadata": {},
   "source": [
    "### Шаг 3\n",
    "\n",
    "Смотрим, что топик в kafka создался"
   ]
  },
  {
   "cell_type": "code",
   "execution_count": 4,
   "id": "98b6192e",
   "metadata": {},
   "outputs": [],
   "source": [
    "!rm clusters.json"
   ]
  },
  {
   "cell_type": "code",
   "execution_count": 5,
   "id": "da29fe3d",
   "metadata": {},
   "outputs": [
    {
     "name": "stdout",
     "output_type": "stream",
     "text": [
      "  % Total    % Received % Xferd  Average Speed   Time    Time     Time  Current\n",
      "                                 Dload  Upload   Total   Spent    Left  Speed\n",
      "100  1001    0  1001    0     0   1284      0 --:--:-- --:--:-- --:--:--  1296\n"
     ]
    }
   ],
   "source": [
    "# Нас интересует cluster_id\n",
    "\n",
    "!curl http://localhost:8082/v3/clusters -o clusters.json"
   ]
  },
  {
   "cell_type": "code",
   "execution_count": 6,
   "id": "1ba3f0f0",
   "metadata": {},
   "outputs": [
    {
     "data": {
      "text/plain": [
       "{'kind': 'KafkaClusterList',\n",
       " 'metadata': {'self': 'http://rest-proxy:8082/v3/clusters', 'next': None},\n",
       " 'data': [{'kind': 'KafkaCluster',\n",
       "   'metadata': {'self': 'http://rest-proxy:8082/v3/clusters/TCJFECM_Stio2wfa268A5g',\n",
       "    'resource_name': 'crn:///kafka=TCJFECM_Stio2wfa268A5g'},\n",
       "   'cluster_id': 'TCJFECM_Stio2wfa268A5g',\n",
       "   'controller': {'related': 'http://rest-proxy:8082/v3/clusters/TCJFECM_Stio2wfa268A5g/brokers/1'},\n",
       "   'acls': {'related': 'http://rest-proxy:8082/v3/clusters/TCJFECM_Stio2wfa268A5g/acls'},\n",
       "   'brokers': {'related': 'http://rest-proxy:8082/v3/clusters/TCJFECM_Stio2wfa268A5g/brokers'},\n",
       "   'broker_configs': {'related': 'http://rest-proxy:8082/v3/clusters/TCJFECM_Stio2wfa268A5g/broker-configs'},\n",
       "   'consumer_groups': {'related': 'http://rest-proxy:8082/v3/clusters/TCJFECM_Stio2wfa268A5g/consumer-groups'},\n",
       "   'topics': {'related': 'http://rest-proxy:8082/v3/clusters/TCJFECM_Stio2wfa268A5g/topics'},\n",
       "   'partition_reassignments': {'related': 'http://rest-proxy:8082/v3/clusters/TCJFECM_Stio2wfa268A5g/topics/-/partitions/-/reassignment'}}]}"
      ]
     },
     "execution_count": 6,
     "metadata": {},
     "output_type": "execute_result"
    }
   ],
   "source": [
    "with open('clusters.json', 'r') as f:\n",
    "    clusters = json.load(f)\n",
    "clusters"
   ]
  },
  {
   "cell_type": "markdown",
   "id": "13bff843",
   "metadata": {},
   "source": [
    "Запоминаем cluster_id = `TCJFECM_Stio2wfa268A5g`"
   ]
  },
  {
   "cell_type": "code",
   "execution_count": 7,
   "id": "a9872237",
   "metadata": {},
   "outputs": [],
   "source": [
    "!rm topics.json"
   ]
  },
  {
   "cell_type": "code",
   "execution_count": 8,
   "id": "68ccd39d",
   "metadata": {},
   "outputs": [
    {
     "name": "stdout",
     "output_type": "stream",
     "text": [
      "  % Total    % Received % Xferd  Average Speed   Time    Time     Time  Current\n",
      "                                 Dload  Upload   Total   Spent    Left  Speed\n",
      "100  4682    0  4682    0     0  25658      0 --:--:-- --:--:-- --:--:-- 26303\n"
     ]
    }
   ],
   "source": [
    "!curl http://localhost:8082/v3/clusters/TCJFECM_Stio2wfa268A5g/topics -o topics.json"
   ]
  },
  {
   "cell_type": "code",
   "execution_count": 9,
   "id": "e32634c8",
   "metadata": {},
   "outputs": [
    {
     "data": {
      "text/plain": [
       "{'kind': 'KafkaTopicList',\n",
       " 'metadata': {'self': 'http://rest-proxy:8082/v3/clusters/TCJFECM_Stio2wfa268A5g/topics',\n",
       "  'next': None},\n",
       " 'data': [{'kind': 'KafkaTopic',\n",
       "   'metadata': {'self': 'http://rest-proxy:8082/v3/clusters/TCJFECM_Stio2wfa268A5g/topics/__debezium-heartbeat.postgres',\n",
       "    'resource_name': 'crn:///kafka=TCJFECM_Stio2wfa268A5g/topic=__debezium-heartbeat.postgres'},\n",
       "   'cluster_id': 'TCJFECM_Stio2wfa268A5g',\n",
       "   'topic_name': '__debezium-heartbeat.postgres',\n",
       "   'is_internal': False,\n",
       "   'replication_factor': 1,\n",
       "   'partitions_count': 1,\n",
       "   'partitions': {'related': 'http://rest-proxy:8082/v3/clusters/TCJFECM_Stio2wfa268A5g/topics/__debezium-heartbeat.postgres/partitions'},\n",
       "   'configs': {'related': 'http://rest-proxy:8082/v3/clusters/TCJFECM_Stio2wfa268A5g/topics/__debezium-heartbeat.postgres/configs'},\n",
       "   'partition_reassignments': {'related': 'http://rest-proxy:8082/v3/clusters/TCJFECM_Stio2wfa268A5g/topics/__debezium-heartbeat.postgres/partitions/-/reassignment'},\n",
       "   'authorized_operations': []},\n",
       "  {'kind': 'KafkaTopic',\n",
       "   'metadata': {'self': 'http://rest-proxy:8082/v3/clusters/TCJFECM_Stio2wfa268A5g/topics/_schemas',\n",
       "    'resource_name': 'crn:///kafka=TCJFECM_Stio2wfa268A5g/topic=_schemas'},\n",
       "   'cluster_id': 'TCJFECM_Stio2wfa268A5g',\n",
       "   'topic_name': '_schemas',\n",
       "   'is_internal': False,\n",
       "   'replication_factor': 1,\n",
       "   'partitions_count': 1,\n",
       "   'partitions': {'related': 'http://rest-proxy:8082/v3/clusters/TCJFECM_Stio2wfa268A5g/topics/_schemas/partitions'},\n",
       "   'configs': {'related': 'http://rest-proxy:8082/v3/clusters/TCJFECM_Stio2wfa268A5g/topics/_schemas/configs'},\n",
       "   'partition_reassignments': {'related': 'http://rest-proxy:8082/v3/clusters/TCJFECM_Stio2wfa268A5g/topics/_schemas/partitions/-/reassignment'},\n",
       "   'authorized_operations': []},\n",
       "  {'kind': 'KafkaTopic',\n",
       "   'metadata': {'self': 'http://rest-proxy:8082/v3/clusters/TCJFECM_Stio2wfa268A5g/topics/connect_configs',\n",
       "    'resource_name': 'crn:///kafka=TCJFECM_Stio2wfa268A5g/topic=connect_configs'},\n",
       "   'cluster_id': 'TCJFECM_Stio2wfa268A5g',\n",
       "   'topic_name': 'connect_configs',\n",
       "   'is_internal': False,\n",
       "   'replication_factor': 1,\n",
       "   'partitions_count': 1,\n",
       "   'partitions': {'related': 'http://rest-proxy:8082/v3/clusters/TCJFECM_Stio2wfa268A5g/topics/connect_configs/partitions'},\n",
       "   'configs': {'related': 'http://rest-proxy:8082/v3/clusters/TCJFECM_Stio2wfa268A5g/topics/connect_configs/configs'},\n",
       "   'partition_reassignments': {'related': 'http://rest-proxy:8082/v3/clusters/TCJFECM_Stio2wfa268A5g/topics/connect_configs/partitions/-/reassignment'},\n",
       "   'authorized_operations': []},\n",
       "  {'kind': 'KafkaTopic',\n",
       "   'metadata': {'self': 'http://rest-proxy:8082/v3/clusters/TCJFECM_Stio2wfa268A5g/topics/connect_offsets',\n",
       "    'resource_name': 'crn:///kafka=TCJFECM_Stio2wfa268A5g/topic=connect_offsets'},\n",
       "   'cluster_id': 'TCJFECM_Stio2wfa268A5g',\n",
       "   'topic_name': 'connect_offsets',\n",
       "   'is_internal': False,\n",
       "   'replication_factor': 1,\n",
       "   'partitions_count': 25,\n",
       "   'partitions': {'related': 'http://rest-proxy:8082/v3/clusters/TCJFECM_Stio2wfa268A5g/topics/connect_offsets/partitions'},\n",
       "   'configs': {'related': 'http://rest-proxy:8082/v3/clusters/TCJFECM_Stio2wfa268A5g/topics/connect_offsets/configs'},\n",
       "   'partition_reassignments': {'related': 'http://rest-proxy:8082/v3/clusters/TCJFECM_Stio2wfa268A5g/topics/connect_offsets/partitions/-/reassignment'},\n",
       "   'authorized_operations': []},\n",
       "  {'kind': 'KafkaTopic',\n",
       "   'metadata': {'self': 'http://rest-proxy:8082/v3/clusters/TCJFECM_Stio2wfa268A5g/topics/connect_statuses',\n",
       "    'resource_name': 'crn:///kafka=TCJFECM_Stio2wfa268A5g/topic=connect_statuses'},\n",
       "   'cluster_id': 'TCJFECM_Stio2wfa268A5g',\n",
       "   'topic_name': 'connect_statuses',\n",
       "   'is_internal': False,\n",
       "   'replication_factor': 1,\n",
       "   'partitions_count': 5,\n",
       "   'partitions': {'related': 'http://rest-proxy:8082/v3/clusters/TCJFECM_Stio2wfa268A5g/topics/connect_statuses/partitions'},\n",
       "   'configs': {'related': 'http://rest-proxy:8082/v3/clusters/TCJFECM_Stio2wfa268A5g/topics/connect_statuses/configs'},\n",
       "   'partition_reassignments': {'related': 'http://rest-proxy:8082/v3/clusters/TCJFECM_Stio2wfa268A5g/topics/connect_statuses/partitions/-/reassignment'},\n",
       "   'authorized_operations': []},\n",
       "  {'kind': 'KafkaTopic',\n",
       "   'metadata': {'self': 'http://rest-proxy:8082/v3/clusters/TCJFECM_Stio2wfa268A5g/topics/postgres.public.customers',\n",
       "    'resource_name': 'crn:///kafka=TCJFECM_Stio2wfa268A5g/topic=postgres.public.customers'},\n",
       "   'cluster_id': 'TCJFECM_Stio2wfa268A5g',\n",
       "   'topic_name': 'postgres.public.customers',\n",
       "   'is_internal': False,\n",
       "   'replication_factor': 1,\n",
       "   'partitions_count': 1,\n",
       "   'partitions': {'related': 'http://rest-proxy:8082/v3/clusters/TCJFECM_Stio2wfa268A5g/topics/postgres.public.customers/partitions'},\n",
       "   'configs': {'related': 'http://rest-proxy:8082/v3/clusters/TCJFECM_Stio2wfa268A5g/topics/postgres.public.customers/configs'},\n",
       "   'partition_reassignments': {'related': 'http://rest-proxy:8082/v3/clusters/TCJFECM_Stio2wfa268A5g/topics/postgres.public.customers/partitions/-/reassignment'},\n",
       "   'authorized_operations': []}]}"
      ]
     },
     "execution_count": 9,
     "metadata": {},
     "output_type": "execute_result"
    }
   ],
   "source": [
    "with open('topics.json', 'r') as f:\n",
    "    topics = json.load(f)\n",
    "topics"
   ]
  },
  {
   "cell_type": "code",
   "execution_count": 10,
   "id": "05460da7",
   "metadata": {},
   "outputs": [
    {
     "name": "stdout",
     "output_type": "stream",
     "text": [
      "__debezium-heartbeat.postgres\n",
      "_schemas\n",
      "connect_configs\n",
      "connect_offsets\n",
      "connect_statuses\n",
      "postgres.public.customers\n"
     ]
    }
   ],
   "source": [
    "for i in topics['data']:\n",
    "    print(i['topic_name'])"
   ]
  },
  {
   "cell_type": "markdown",
   "id": "5e2d4064",
   "metadata": {},
   "source": [
    "### Шаг 3\n",
    "\n",
    "Видим, что при init для таблицы, в которой у нас уже были строки, уже создался топик<br>\n",
    "Давайте посмотрим, что туда записалось"
   ]
  },
  {
   "cell_type": "code",
   "execution_count": 25,
   "id": "3711ef49",
   "metadata": {},
   "outputs": [],
   "source": [
    "import json\n",
    "from kafka import KafkaConsumer\n",
    "\n",
    "KAFKA_HOST = \"localhost\"\n",
    "KAFKA_CONSUMER_GROUP = \"backend\"\n",
    "\n",
    "def read_single_message(topic=None):\n",
    "    assert topic is not None, 'You must specify topic name'\n",
    "    \n",
    "    consumer = KafkaConsumer(\n",
    "        bootstrap_servers=f\"{KAFKA_HOST}:9092\",\n",
    "        value_deserializer=lambda v: v if v is None else json.loads( v.decode(\"utf-8\") ),\n",
    "        auto_offset_reset=\"earliest\",\n",
    "        group_id=KAFKA_CONSUMER_GROUP\n",
    "    )\n",
    "    consumer.subscribe(topics=topic)\n",
    "\n",
    "    try:\n",
    "        for message in consumer:\n",
    "            value = message.value\n",
    "            return value\n",
    "    except Exception as e:\n",
    "            print(\"Closing consumer due to error\\n\")\n",
    "            consumer.close()\n",
    "            raise e\n",
    "    finally:\n",
    "        print(\"Closing consumer due to finish\\n\")\n",
    "        consumer.close()"
   ]
  },
  {
   "cell_type": "code",
   "execution_count": 15,
   "id": "c2968623",
   "metadata": {},
   "outputs": [
    {
     "name": "stdout",
     "output_type": "stream",
     "text": [
      "Closing consumer due to finish\n",
      "\n"
     ]
    },
    {
     "data": {
      "text/plain": [
       "{'schema': {'type': 'struct',\n",
       "  'fields': [{'type': 'struct',\n",
       "    'fields': [{'type': 'int32', 'optional': True, 'field': 'id'},\n",
       "     {'type': 'string', 'optional': True, 'field': 'name'}],\n",
       "    'optional': True,\n",
       "    'name': 'postgres.public.customers.Value',\n",
       "    'field': 'before'},\n",
       "   {'type': 'struct',\n",
       "    'fields': [{'type': 'int32', 'optional': True, 'field': 'id'},\n",
       "     {'type': 'string', 'optional': True, 'field': 'name'}],\n",
       "    'optional': True,\n",
       "    'name': 'postgres.public.customers.Value',\n",
       "    'field': 'after'},\n",
       "   {'type': 'struct',\n",
       "    'fields': [{'type': 'string', 'optional': False, 'field': 'version'},\n",
       "     {'type': 'string', 'optional': False, 'field': 'connector'},\n",
       "     {'type': 'string', 'optional': False, 'field': 'name'},\n",
       "     {'type': 'int64', 'optional': False, 'field': 'ts_ms'},\n",
       "     {'type': 'string',\n",
       "      'optional': True,\n",
       "      'name': 'io.debezium.data.Enum',\n",
       "      'version': 1,\n",
       "      'parameters': {'allowed': 'true,last,false,incremental'},\n",
       "      'default': 'false',\n",
       "      'field': 'snapshot'},\n",
       "     {'type': 'string', 'optional': False, 'field': 'db'},\n",
       "     {'type': 'string', 'optional': True, 'field': 'sequence'},\n",
       "     {'type': 'string', 'optional': False, 'field': 'schema'},\n",
       "     {'type': 'string', 'optional': False, 'field': 'table'},\n",
       "     {'type': 'int64', 'optional': True, 'field': 'txId'},\n",
       "     {'type': 'int64', 'optional': True, 'field': 'lsn'},\n",
       "     {'type': 'int64', 'optional': True, 'field': 'xmin'}],\n",
       "    'optional': False,\n",
       "    'name': 'io.debezium.connector.postgresql.Source',\n",
       "    'field': 'source'},\n",
       "   {'type': 'string', 'optional': False, 'field': 'op'},\n",
       "   {'type': 'int64', 'optional': True, 'field': 'ts_ms'},\n",
       "   {'type': 'struct',\n",
       "    'fields': [{'type': 'string', 'optional': False, 'field': 'id'},\n",
       "     {'type': 'int64', 'optional': False, 'field': 'total_order'},\n",
       "     {'type': 'int64', 'optional': False, 'field': 'data_collection_order'}],\n",
       "    'optional': True,\n",
       "    'name': 'event.block',\n",
       "    'version': 1,\n",
       "    'field': 'transaction'}],\n",
       "  'optional': False,\n",
       "  'name': 'postgres.public.customers.Envelope',\n",
       "  'version': 1},\n",
       " 'payload': {'before': None,\n",
       "  'after': {'id': 1, 'name': 'ilya'},\n",
       "  'source': {'version': '2.2.0.Alpha3',\n",
       "   'connector': 'postgresql',\n",
       "   'name': 'postgres',\n",
       "   'ts_ms': 1697708007806,\n",
       "   'snapshot': 'first',\n",
       "   'db': 'postgres',\n",
       "   'sequence': '[null,\"22360992\"]',\n",
       "   'schema': 'public',\n",
       "   'table': 'customers',\n",
       "   'txId': 747,\n",
       "   'lsn': 22360992,\n",
       "   'xmin': None},\n",
       "  'op': 'r',\n",
       "  'ts_ms': 1697708007912,\n",
       "  'transaction': None}}"
      ]
     },
     "execution_count": 15,
     "metadata": {},
     "output_type": "execute_result"
    }
   ],
   "source": [
    "value = read_single_message('postgres.public.customers')\n",
    "value"
   ]
  },
  {
   "cell_type": "markdown",
   "id": "01647354",
   "metadata": {},
   "source": [
    "Что у нас тут получилось:\n",
    "1) Есть схема сообщения\n",
    "2) Так как все строки новые, то `before` содержит `None`\n",
    "3) В то же время, `after` содержит значения в строке\n",
    "\n",
    "Посмотрим, что происходит при insert\n",
    "Выполним на БД следующий скрипт\n",
    "```sql\n",
    "insert into public.customers (id, name)\n",
    "values\n",
    "    (4, 'david')\n",
    ";\n",
    "```"
   ]
  },
  {
   "cell_type": "code",
   "execution_count": 16,
   "id": "2aa206a7",
   "metadata": {},
   "outputs": [
    {
     "name": "stdout",
     "output_type": "stream",
     "text": [
      "Closing consumer due to finish\n",
      "\n",
      "Closing consumer due to finish\n",
      "\n"
     ]
    }
   ],
   "source": [
    "for i in range(2):\n",
    "    read_single_message('postgres.public.customers')"
   ]
  },
  {
   "cell_type": "code",
   "execution_count": 18,
   "id": "d5fbf03f",
   "metadata": {},
   "outputs": [
    {
     "data": {
      "text/plain": [
       "{'before': None,\n",
       " 'after': {'id': 4, 'name': 'david'},\n",
       " 'source': {'version': '2.2.0.Alpha3',\n",
       "  'connector': 'postgresql',\n",
       "  'name': 'postgres',\n",
       "  'ts_ms': 1697708537634,\n",
       "  'snapshot': 'false',\n",
       "  'db': 'postgres',\n",
       "  'sequence': '[null,\"22361320\"]',\n",
       "  'schema': 'public',\n",
       "  'table': 'customers',\n",
       "  'txId': 748,\n",
       "  'lsn': 22361320,\n",
       "  'xmin': None},\n",
       " 'op': 'c',\n",
       " 'ts_ms': 1697708538002,\n",
       " 'transaction': None}"
      ]
     },
     "execution_count": 18,
     "metadata": {},
     "output_type": "execute_result"
    }
   ],
   "source": [
    "value = read_single_message('postgres.public.customers')\n",
    "value['payload']"
   ]
  },
  {
   "cell_type": "markdown",
   "id": "9b818c9a",
   "metadata": {},
   "source": [
    "Получили все то же самое<br>\n",
    "Теперь посмотрим на update\n",
    "```sql\n",
    "update public.customers\n",
    "set name = 'diana'\n",
    "where id = 4;\n",
    "```"
   ]
  },
  {
   "cell_type": "code",
   "execution_count": 19,
   "id": "b6813c99",
   "metadata": {},
   "outputs": [
    {
     "name": "stdout",
     "output_type": "stream",
     "text": [
      "Closing consumer due to finish\n",
      "\n"
     ]
    },
    {
     "data": {
      "text/plain": [
       "{'before': {'id': 4, 'name': 'david'},\n",
       " 'after': {'id': 4, 'name': 'diana'},\n",
       " 'source': {'version': '2.2.0.Alpha3',\n",
       "  'connector': 'postgresql',\n",
       "  'name': 'postgres',\n",
       "  'ts_ms': 1697708613049,\n",
       "  'snapshot': 'false',\n",
       "  'db': 'postgres',\n",
       "  'sequence': '[\"22361640\",\"22361696\"]',\n",
       "  'schema': 'public',\n",
       "  'table': 'customers',\n",
       "  'txId': 749,\n",
       "  'lsn': 22361696,\n",
       "  'xmin': None},\n",
       " 'op': 'u',\n",
       " 'ts_ms': 1697708613431,\n",
       " 'transaction': None}"
      ]
     },
     "execution_count": 19,
     "metadata": {},
     "output_type": "execute_result"
    }
   ],
   "source": [
    "value = read_single_message('postgres.public.customers')\n",
    "value['payload']"
   ]
  },
  {
   "cell_type": "markdown",
   "id": "f28271ad",
   "metadata": {},
   "source": [
    "Что мы имеем:\n",
    "1) `before` содержит старые значения в строке\n",
    "2) `after` содержит новые значения в строке\n",
    "\n",
    "Посмотрим, что произойдет при delete\n",
    "```sql\n",
    "delete\n",
    "from public.customers\n",
    "where id = 4;\n",
    "```"
   ]
  },
  {
   "cell_type": "code",
   "execution_count": 26,
   "id": "cb347e5e",
   "metadata": {},
   "outputs": [
    {
     "name": "stdout",
     "output_type": "stream",
     "text": [
      "Closing consumer due to finish\n",
      "\n"
     ]
    },
    {
     "data": {
      "text/plain": [
       "{'before': {'id': 4, 'name': 'diana'},\n",
       " 'after': None,\n",
       " 'source': {'version': '2.2.0.Alpha3',\n",
       "  'connector': 'postgresql',\n",
       "  'name': 'postgres',\n",
       "  'ts_ms': 1697708712610,\n",
       "  'snapshot': 'false',\n",
       "  'db': 'postgres',\n",
       "  'sequence': '[\"22361840\",\"22362128\"]',\n",
       "  'schema': 'public',\n",
       "  'table': 'customers',\n",
       "  'txId': 750,\n",
       "  'lsn': 22362128,\n",
       "  'xmin': None},\n",
       " 'op': 'd',\n",
       " 'ts_ms': 1697708712810,\n",
       " 'transaction': None}"
      ]
     },
     "execution_count": 26,
     "metadata": {},
     "output_type": "execute_result"
    }
   ],
   "source": [
    "value = read_single_message('postgres.public.customers')\n",
    "value['payload']"
   ]
  },
  {
   "cell_type": "markdown",
   "id": "a16b3fa6",
   "metadata": {},
   "source": [
    "Что мы имеем:\n",
    "1) `before` содержит старые значения в строке\n",
    "2) `after` содержит `None`\n",
    "\n",
    "<b>ВАЖНО:</b> Debezium [не умеет](https://github.com/MaterializeInc/materialize/issues/6596#issuecomment-963479859) в обработку truncate\n",
    "\n",
    "### Шаг 4\n",
    "\n",
    "Посмотрим, что произойдет при создании новой таблицы\n",
    "```sql\n",
    "create table public.stores (\n",
    "    id int,\n",
    "    city text\n",
    ");\n",
    "ALTER TABLE public.stores REPLICA IDENTITY FULL;\n",
    "```"
   ]
  },
  {
   "cell_type": "code",
   "execution_count": 30,
   "id": "5fb5b844",
   "metadata": {},
   "outputs": [],
   "source": [
    "!rm topics.json"
   ]
  },
  {
   "cell_type": "code",
   "execution_count": 33,
   "id": "678b13a1",
   "metadata": {},
   "outputs": [
    {
     "name": "stdout",
     "output_type": "stream",
     "text": [
      "  % Total    % Received % Xferd  Average Speed   Time    Time     Time  Current\r\n",
      "                                 Dload  Upload   Total   Spent    Left  Speed\r\n",
      "\r",
      "  0     0    0     0    0     0      0      0 --:--:-- --:--:-- --:--:--     0\r",
      "100  4682    0  4682    0     0   203k      0 --:--:-- --:--:-- --:--:--  240k\r\n"
     ]
    }
   ],
   "source": [
    "!curl http://localhost:8082/v3/clusters/TCJFECM_Stio2wfa268A5g/topics -o topics.json"
   ]
  },
  {
   "cell_type": "code",
   "execution_count": 34,
   "id": "b96574f1",
   "metadata": {},
   "outputs": [
    {
     "name": "stdout",
     "output_type": "stream",
     "text": [
      "__debezium-heartbeat.postgres\n",
      "_schemas\n",
      "connect_configs\n",
      "connect_offsets\n",
      "connect_statuses\n",
      "postgres.public.customers\n"
     ]
    }
   ],
   "source": [
    "with open('topics.json', 'r') as f:\n",
    "    topics = json.load(f)\n",
    "\n",
    "for i in topics['data']:\n",
    "    print(i['topic_name'])"
   ]
  },
  {
   "cell_type": "markdown",
   "id": "a21be990",
   "metadata": {},
   "source": [
    "Видим, что топика нет<br>\n",
    "Все потому, что таблица пустая<br>\n",
    "Добавим в нее строк\n",
    "```sql\n",
    "insert into public.stores (id, city)\n",
    "values\n",
    "    (1, 'Moscow'),\n",
    "    (2, 'London'),\n",
    "    (3, 'Milano')\n",
    ";\n",
    "```"
   ]
  },
  {
   "cell_type": "code",
   "execution_count": 36,
   "id": "0d6209a7",
   "metadata": {},
   "outputs": [
    {
     "name": "stdout",
     "output_type": "stream",
     "text": [
      "  % Total    % Received % Xferd  Average Speed   Time    Time     Time  Current\n",
      "                                 Dload  Upload   Total   Spent    Left  Speed\n",
      "100  5464    0  5464    0     0   172k      0 --:--:-- --:--:-- --:--:--  222k\n",
      "__debezium-heartbeat.postgres\n",
      "_schemas\n",
      "connect_configs\n",
      "connect_offsets\n",
      "connect_statuses\n",
      "postgres.public.customers\n",
      "postgres.public.stores\n"
     ]
    }
   ],
   "source": [
    "!rm topics.json\n",
    "!curl http://localhost:8082/v3/clusters/TCJFECM_Stio2wfa268A5g/topics -o topics.json\n",
    "        \n",
    "with open('topics.json', 'r') as f:\n",
    "    topics = json.load(f)\n",
    "\n",
    "for i in topics['data']:\n",
    "    print(i['topic_name'])"
   ]
  },
  {
   "cell_type": "markdown",
   "id": "190a5ab7",
   "metadata": {},
   "source": [
    "Теперь топик есть, и его можно почитать"
   ]
  },
  {
   "cell_type": "code",
   "execution_count": 39,
   "id": "44e31a06",
   "metadata": {},
   "outputs": [
    {
     "name": "stdout",
     "output_type": "stream",
     "text": [
      "Closing consumer due to finish\n",
      "\n",
      "{'before': None, 'after': {'id': 1, 'city': 'Moscow'}, 'source': {'version': '2.2.0.Alpha3', 'connector': 'postgresql', 'name': 'postgres', 'ts_ms': 1697709276568, 'snapshot': 'false', 'db': 'postgres', 'sequence': '[\"22362848\",\"22481768\"]', 'schema': 'public', 'table': 'stores', 'txId': 756, 'lsn': 22481768, 'xmin': None}, 'op': 'c', 'ts_ms': 1697709276645, 'transaction': None}\n",
      "---\n",
      "Closing consumer due to finish\n",
      "\n",
      "{'before': None, 'after': {'id': 2, 'city': 'London'}, 'source': {'version': '2.2.0.Alpha3', 'connector': 'postgresql', 'name': 'postgres', 'ts_ms': 1697709276568, 'snapshot': 'false', 'db': 'postgres', 'sequence': '[\"22362848\",\"22481840\"]', 'schema': 'public', 'table': 'stores', 'txId': 756, 'lsn': 22481840, 'xmin': None}, 'op': 'c', 'ts_ms': 1697709276646, 'transaction': None}\n",
      "---\n",
      "Closing consumer due to finish\n",
      "\n",
      "{'before': None, 'after': {'id': 3, 'city': 'Milano'}, 'source': {'version': '2.2.0.Alpha3', 'connector': 'postgresql', 'name': 'postgres', 'ts_ms': 1697709276568, 'snapshot': 'false', 'db': 'postgres', 'sequence': '[\"22362848\",\"22481912\"]', 'schema': 'public', 'table': 'stores', 'txId': 756, 'lsn': 22481912, 'xmin': None}, 'op': 'c', 'ts_ms': 1697709276646, 'transaction': None}\n",
      "---\n"
     ]
    }
   ],
   "source": [
    "for i in range(3):\n",
    "    value = read_single_message('postgres.public.stores')\n",
    "    print(value['payload'], end='\\n---\\n')"
   ]
  },
  {
   "cell_type": "code",
   "execution_count": null,
   "id": "12bef55f",
   "metadata": {},
   "outputs": [],
   "source": []
  }
 ],
 "metadata": {
  "kernelspec": {
   "display_name": "Python 3 (ipykernel)",
   "language": "python",
   "name": "python3"
  },
  "language_info": {
   "codemirror_mode": {
    "name": "ipython",
    "version": 3
   },
   "file_extension": ".py",
   "mimetype": "text/x-python",
   "name": "python",
   "nbconvert_exporter": "python",
   "pygments_lexer": "ipython3",
   "version": "3.11.4"
  }
 },
 "nbformat": 4,
 "nbformat_minor": 5
}
